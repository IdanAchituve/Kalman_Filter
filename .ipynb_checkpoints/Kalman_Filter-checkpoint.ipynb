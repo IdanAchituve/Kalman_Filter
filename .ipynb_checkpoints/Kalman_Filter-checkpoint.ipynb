{
 "cells": [
  {
   "cell_type": "code",
   "execution_count": 2,
   "metadata": {},
   "outputs": [],
   "source": [
    "import numpy as np\n",
    "import matplotlib.pyplot as plt\n",
    "plt.style.use('seaborn-whitegrid')"
   ]
  },
  {
   "cell_type": "code",
   "execution_count": 3,
   "metadata": {},
   "outputs": [],
   "source": [
    "# simulate 100 data points for the particle location\n",
    "def simulate_data_points(A, C, Q, R):\n",
    "\n",
    "    # initial distribution\n",
    "    mu_0 = np.asarray([0, 0])\n",
    "    sigma_0 = np.asarray([[1, 0], [0, 1]])\n",
    "\n",
    "    # generate x_1: [loc, velocity]\n",
    "    x_1 = np.random.multivariate_normal(mu_0, sigma_0)\n",
    "    y_1 = C.dot(x_1) + np.random.normal(0, R)\n",
    "\n",
    "    # initialize empty lists for saving x_t, y_t and add the first sample\n",
    "    X = []\n",
    "    Y = []\n",
    "    X.append(x_1)\n",
    "    Y.append(y_1)\n",
    "\n",
    "    # add additional 99 points according to linear dynamical model\n",
    "    for i in range(99):\n",
    "        # generate next x\n",
    "        x_t_prev = X[-1]\n",
    "        x_t = A.dot(x_t_prev) + np.random.multivariate_normal(np.asarray([0, 0]), Q)\n",
    "        X.append(x_t)\n",
    "\n",
    "        # generate next y\n",
    "        y_t = C.dot(x_t) + np.random.normal(0, R)\n",
    "        Y.append(y_t)\n",
    "\n",
    "    return X, Y"
   ]
  },
  {
   "cell_type": "code",
   "execution_count": 4,
   "metadata": {},
   "outputs": [],
   "source": [
    "def kalman_filter(A, C, Y, Q, R):\n",
    "\n",
    "    # initial distribution\n",
    "    x_t_t_minus_1 = np.asarray([0, 0])  # initial expected location\n",
    "    P_t_t_minus_1 = np.asarray([[1, 0], [0, 1]])  #  initial covariance\n",
    "\n",
    "    I = np.asarray([[1, 0], [0, 1]])\n",
    "\n",
    "    estimated_location = []\n",
    "    # predict the location of the next 100 points based on kalman filter\n",
    "    for i in range(100):\n",
    "        K_t = P_t_t_minus_1.dot(np.transpose(C))/(C.dot(P_t_t_minus_1).dot(np.transpose(C)) + R)\n",
    "        x_t_t = x_t_t_minus_1 + K_t.dot(Y[i-1] - C.dot(x_t_t_minus_1))\n",
    "        P_t_t = (I - K_t.dot(C)).dot(P_t_t_minus_1).dot(np.transpose(I - K_t.dot(C))) + R*K_t.dot(np.transpose(K_t))\n",
    "\n",
    "        P_t_t_minus_1 = A.dot(P_t_t).dot(np.transpose(A)) + Q\n",
    "        x_t_t_minus_1 = A.dot(x_t_t)\n",
    "        estimated_location.append(x_t_t)\n",
    "\n",
    "    return estimated_location\n"
   ]
  },
  {
   "cell_type": "code",
   "execution_count": 5,
   "metadata": {},
   "outputs": [],
   "source": [
    "def run(A, C, Q, R):\n",
    "\n",
    "    X, Y = simulate_data_points(A, C, Q, R)\n",
    "    # get the location from the X tuple\n",
    "    loc = np.asarray([x_loc for x_loc, x_vel in X])\n",
    "    # build the time axis, e.g. 1-100\n",
    "    time_axis = np.asarray([i for i in range(100)])\n",
    "    plt.plot(time_axis, loc, '-g', label='true position')\n",
    "\n",
    "    # plot kalmam estimated location vs the real location\n",
    "    kelman_X = kalman_filter(A, C, Y, Q, R)\n",
    "    est_loc = np.asarray([x_loc for x_loc, x_vel in kelman_X])\n",
    "    plt.plot(time_axis, est_loc, ':b', label='estimated position')\n",
    "    plt.legend()\n",
    "    plt.ylabel(\"position\")\n",
    "    plt.xlabel(\"time\")\n",
    "\n",
    "    plt.show()\n",
    "\n",
    "    # compare between the measurements and kalmam filter estimate\n",
    "    y_diff = np.sum((np.asarray(Y).squeeze() - loc)**2)\n",
    "    kalman_diff = np.sum((est_loc - loc)**2)\n",
    "    print(\"measurement MSE: \" + str(y_diff) + \", Kalman MSE: \" + str(kalman_diff))\n",
    "    print(\"\\nKalman Filter estimate is better than the direct measurement estimate.\\n\"\n",
    "          \"This is an expected outcome since as part of the Kalman filter estimation\\n\"\n",
    "          \"the measurement is taken into account as well as the previous location.\\n\"\n",
    "          \"Therefore, we use more knowledge which reduce the uncertainty in estimating the next location.\")"
   ]
  },
  {
   "cell_type": "code",
   "execution_count": 6,
   "metadata": {},
   "outputs": [
    {
     "data": {
      "image/png": "[encoded data removed]",
      "text/plain": [
       "<Figure size 432x288 with 1 Axes>"
      ]
     },
     "metadata": {},
     "output_type": "display_data"
    },
    {
     "name": "stdout",
     "output_type": "stream",
     "text": [
      "measurement MSE: 797558.3451163422, Kalman MSE: 216568.50810904367\n",
      "\n",
      "Kalman Filter estimate is better than the direct measurement estimate.\n",
      "This is an expected outcome since as part of the Kalman filter estimation\n",
      "the measurement is taken into account as well as the previous location.\n",
      "Therefore, we use more knowledge which reduce the uncertainty in estimating the next location.\n"
     ]
    }
   ],
   "source": [
    "np.random.seed(999)\n",
    "A = np.array([[1, 1], [0, 0.98]])\n",
    "C = np.asarray([[1, 0]])\n",
    "Q = np.asarray([[0, 0], [0, 1]])\n",
    "R = np.asarray([100])\n",
    "\n",
    "run(A, C, Q, R)\n"
   ]
  }
 ],
 "metadata": {
  "kernelspec": {
   "display_name": "Python 3",
   "language": "python",
   "name": "python3"
  },
  "language_info": {
   "codemirror_mode": {
    "name": "ipython",
    "version": 3
   },
   "file_extension": ".py",
   "mimetype": "text/x-python",
   "name": "python",
   "nbconvert_exporter": "python",
   "pygments_lexer": "ipython3",
   "version": "3.6.6"
  }
 },
 "nbformat": 4,
 "nbformat_minor": 2
}
